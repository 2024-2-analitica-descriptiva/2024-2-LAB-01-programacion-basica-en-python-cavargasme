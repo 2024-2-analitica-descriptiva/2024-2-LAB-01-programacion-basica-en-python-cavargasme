{
 "cells": [
  {
   "cell_type": "code",
   "execution_count": 15,
   "metadata": {
    "id": "MbyQoYIklJE_",
    "outputId": "e332dc95-7aae-4cba-8650-f8215e0f89f6"
   },
   "outputs": [],
   "source": [
    "# Pregunta 1\n",
    "\n",
    "\"\"\"\n",
    "Retorne la suma de la segunda columna.\n",
    "\n",
    "Rta/ 214\n",
    "\n",
    "\"\"\"\n",
    "\n",
    "# Lectura del archivo data.csv\n",
    "\n",
    "with open(\"/home/camila/Escritorio/A. Descriptiva/Laboratorios/2024-2-LAB-01-programacion-basica-en-python-cavargasme/files/input/data.csv\",\"r\") as file:\n",
    "    datos = file.readlines()\n",
    "\n",
    "datos = [line.replace('\\t', '|').replace('\\n','') for line in datos]\n",
    "datos = [line.split('|') for line in datos]\n",
    "datos\n",
    "\n",
    "def pregunta_01():\n",
    "    suma = 0\n",
    "    for lista in datos:\n",
    "        suma += int(lista[1])\n",
    "\n",
    "    return suma\n"
   ]
  },
  {
   "cell_type": "code",
   "execution_count": null,
   "metadata": {
    "id": "SngkRO51lJFC"
   },
   "outputs": [],
   "source": [
    "\"\"\"\n",
    "Retorne la suma de la segunda columna.\n",
    "\n",
    "Rta/ 214\n",
    "\n",
    "\"\"\"\n",
    "def pregunta_01():\n",
    "    suma = 0\n",
    "    for lista in datos:\n",
    "        suma += int(lista[1])\n",
    "\n",
    "    return suma\n"
   ]
  },
  {
   "cell_type": "code",
   "execution_count": null,
   "metadata": {
    "id": "L5xl77aolJFF",
    "outputId": "7b2948dc-bf4b-4034-f7d5-17049bf6487c"
   },
   "outputs": [
    {
     "data": {
      "text/plain": [
       "[('A', 8), ('B', 7), ('C', 5), ('D', 6), ('E', 14)]"
      ]
     },
     "execution_count": 17,
     "metadata": {},
     "output_type": "execute_result"
    }
   ],
   "source": [
    "# Pregunta 02\n",
    "\n",
    "from collections import Counter\n",
    "\n",
    "\n",
    "\"\"\"\"\n",
    "    Retorne la cantidad de registros por cada letra de la primera columna como la lista\n",
    "    de tuplas (letra, cantidad), ordendas alfabéticamente.\n",
    "\n",
    "    Rta/\n",
    "    [\n",
    "        (\"A\", 8),\n",
    "        (\"B\", 7),\n",
    "        (\"C\", 5),\n",
    "        (\"D\", 6),\n",
    "        (\"E\", 14),\n",
    "    ]\n",
    "\"\"\"\n",
    "def pregunta_02():\n",
    "\n",
    "    col1 = []\n",
    "    [col1.append(item[0]) for item in datos]\n",
    "    tuple_list = sorted(list(Counter(col1).items()))\n",
    "\n",
    "    return tuple_list\n"
   ]
  },
  {
   "cell_type": "code",
   "execution_count": null,
   "metadata": {
    "id": "t80GGtVmlJFH",
    "outputId": "0b4a048f-4afc-43ba-a206-236f82a5d705"
   },
   "outputs": [
    {
     "name": "stdout",
     "output_type": "stream",
     "text": [
      "[('A', 53)]\n",
      "[('A', 53), ('B', 36)]\n",
      "[('A', 53), ('B', 36), ('C', 27)]\n",
      "[('A', 53), ('B', 36), ('C', 27), ('D', 31)]\n",
      "[('A', 53), ('B', 36), ('C', 27), ('D', 31), ('E', 67)]\n"
     ]
    }
   ],
   "source": [
    "import itertools\n",
    "\n",
    "# Pregunta 03\n",
    "\n",
    "\"\"\"\n",
    "Retorne la suma de la columna 2 por cada letra de la primera columna como una lista\n",
    "de tuplas (letra, suma) ordendas alfabeticamente.\n",
    "\n",
    "Rta/\n",
    "[\n",
    "    (\"A\", 53),\n",
    "    (\"B\", 36),\n",
    "    (\"C\", 27),\n",
    "    (\"D\", 31),\n",
    "    (\"E\", 67),\n",
    "]\n",
    "\n",
    "\"\"\"\n",
    "def pregunta_03():\n",
    "    datos_suma = []\n",
    "\n",
    "    for i, j in itertools.groupby(sorted(datos), lambda x: x[0]):\n",
    "        datos_suma.append((i, sum(int(x[1]) for x in j)))\n",
    "    return datos_suma\n",
    "\n",
    "\n",
    "\n"
   ]
  },
  {
   "cell_type": "code",
   "execution_count": null,
   "metadata": {
    "id": "QF71XWGvlJFJ",
    "outputId": "a8c84a0f-99d8-4380-b479-d0cbbfea45a4"
   },
   "outputs": [
    {
     "data": {
      "text/plain": [
       "[('01', 3),\n",
       " ('02', 4),\n",
       " ('03', 2),\n",
       " ('04', 4),\n",
       " ('05', 3),\n",
       " ('06', 3),\n",
       " ('07', 5),\n",
       " ('08', 6),\n",
       " ('09', 3),\n",
       " ('10', 2),\n",
       " ('11', 2),\n",
       " ('12', 3)]"
      ]
     },
     "execution_count": 24,
     "metadata": {},
     "output_type": "execute_result"
    }
   ],
   "source": [
    "# Preguntas 04\n",
    "from datetime import datetime\n",
    "\"\"\"\n",
    "La columna 3 contiene una fecha en formato `YYYY-MM-DD`. Retorne la cantidad de\n",
    "registros por cada mes, tal como se muestra a continuación.\n",
    "\n",
    "Rta/\n",
    "[\n",
    "    (\"01\", 3),\n",
    "    (\"02\", 4),\n",
    "    (\"03\", 2),\n",
    "    (\"04\", 4),\n",
    "    (\"05\", 3),\n",
    "    (\"06\", 3),\n",
    "    (\"07\", 5),\n",
    "    (\"08\", 6),\n",
    "    (\"09\", 3),\n",
    "    (\"10\", 2),\n",
    "    (\"11\", 2),\n",
    "    (\"12\", 3),\n",
    "]\n",
    "\n",
    "\"\"\"\n",
    "def pregunta_04():\n",
    "\n",
    "    data_by_month = Counter()\n",
    "\n",
    "    for row in datos:\n",
    "        date = datetime.strptime(row[2][:7], \"%Y-%m\")\n",
    "        data_by_month['{:02d}'.format(date.month)] += 1\n",
    "\n",
    "    return sorted(list(data_by_month.items()))\n"
   ]
  },
  {
   "cell_type": "code",
   "execution_count": null,
   "metadata": {
    "id": "HqPC2gmxlJFL",
    "outputId": "db2ea7d1-f6f2-403e-9a22-264d8a1b23a8"
   },
   "outputs": [
    {
     "data": {
      "text/plain": [
       "[('A', 9, 2), ('B', 9, 1), ('C', 9, 0), ('D', 8, 3), ('E', 9, 1)]"
      ]
     },
     "execution_count": 28,
     "metadata": {},
     "output_type": "execute_result"
    }
   ],
   "source": [
    "# Pregunta 05\n",
    "\n",
    "\"\"\"\n",
    "Retorne una lista de tuplas con el valor maximo y minimo de la columna 2 por cada\n",
    "letra de la columa 1.\n",
    "\n",
    "Rta/\n",
    "[\n",
    "    (\"A\", 9, 2),\n",
    "    (\"B\", 9, 1),\n",
    "    (\"C\", 9, 0),\n",
    "    (\"D\", 8, 3),\n",
    "    (\"E\", 9, 1),\n",
    "]\n",
    "\n",
    "\"\"\"\n",
    "def pregunta_05():\n",
    "    datos_suma = []\n",
    "\n",
    "    for i, j in itertools.groupby(sorted(datos), lambda x : x[0]):\n",
    "        valores_list = [x[1] for x in j]\n",
    "        datos_suma.append((i, int(max(valores_list)), int(min(valores_list))))\n",
    "\n",
    "    return datos_suma"
   ]
  },
  {
   "cell_type": "code",
   "execution_count": null,
   "metadata": {
    "id": "8yTUYF4vlJFM",
    "outputId": "b3fb2bac-cf72-4709-d7bd-4a3178812ba6"
   },
   "outputs": [
    {
     "data": {
      "text/plain": [
       "[('aaa', 1, 9),\n",
       " ('bbb', 1, 9),\n",
       " ('ccc', 1, 10),\n",
       " ('ddd', 0, 9),\n",
       " ('eee', 1, 7),\n",
       " ('fff', 0, 9),\n",
       " ('ggg', 3, 10),\n",
       " ('hhh', 0, 9),\n",
       " ('iii', 0, 9),\n",
       " ('jjj', 5, 17)]"
      ]
     },
     "execution_count": 33,
     "metadata": {},
     "output_type": "execute_result"
    }
   ],
   "source": [
    "# Pregunta 06\n",
    "\"\"\"\n",
    "La columna 5 codifica un diccionario donde cada cadena de tres letras corresponde a\n",
    "una clave y el valor despues del caracter `:` corresponde al valor asociado a la\n",
    "clave. Por cada clave, obtenga el valor asociado mas pequeño y el valor asociado mas\n",
    "grande computados sobre todo el archivo.\n",
    "\n",
    "Rta/\n",
    "[\n",
    "    (\"aaa\", 1, 9),\n",
    "    (\"bbb\", 1, 9),\n",
    "    (\"ccc\", 1, 10),\n",
    "    (\"ddd\", 0, 9),\n",
    "    (\"eee\", 1, 7),\n",
    "    (\"fff\", 0, 9),\n",
    "    (\"ggg\", 3, 10),\n",
    "    (\"hhh\", 0, 9),\n",
    "    (\"iii\", 0, 9),\n",
    "    (\"jjj\", 5, 17),\n",
    "]\n",
    "\n",
    "\"\"\"\n",
    "def pregunta_06():\n",
    "\n",
    "    nueva_lista_valores = []\n",
    "    datos_dic = []\n",
    "\n",
    "    valores = [x[4] for x in datos]\n",
    "    lista_valores = [x.split(\",\") for x in valores]\n",
    "\n",
    "    for x in lista_valores:\n",
    "        for y in x:\n",
    "            nueva_lista_valores.append(y.split(\":\"))\n",
    "\n",
    "    for i, j in itertools.groupby(sorted(nueva_lista_valores), lambda x : x[0]):\n",
    "        valores_list = [int(x[1]) for x in j]\n",
    "        datos_dic.append((i, min(valores_list), max(valores_list)))\n",
    "\n",
    "    return datos_dic\n"
   ]
  },
  {
   "cell_type": "code",
   "execution_count": null,
   "metadata": {
    "id": "TA2anhmClJFN",
    "outputId": "08f93dcf-3423-43fd-d7ca-13f4e48608b2"
   },
   "outputs": [
    {
     "data": {
      "text/plain": [
       "[(0, ['C']),\n",
       " (1, ['E', 'B', 'E']),\n",
       " (2, ['A', 'E']),\n",
       " (3, ['A', 'B', 'D', 'E', 'E', 'D']),\n",
       " (4, ['E', 'B']),\n",
       " (5, ['B', 'C', 'D', 'D', 'E', 'E', 'E']),\n",
       " (6, ['C', 'E', 'A', 'B']),\n",
       " (7, ['A', 'C', 'E', 'D']),\n",
       " (8, ['E', 'D', 'E', 'A', 'B']),\n",
       " (9, ['A', 'B', 'E', 'A', 'A', 'C'])]"
      ]
     },
     "execution_count": 36,
     "metadata": {},
     "output_type": "execute_result"
    }
   ],
   "source": [
    "# Pregunta 07\n",
    "\n",
    "\"\"\"\n",
    "Retorne una lista de tuplas que asocien las columnas 0 y 1. Cada tupla contiene un\n",
    "valor posible de la columna 2 y una lista con todas las letras asociadas (columna 1)\n",
    "a dicho valor de la columna 2.\n",
    "\n",
    "Rta/\n",
    "[\n",
    "    (0, [\"C\"]),\n",
    "    (1, [\"E\", \"B\", \"E\"]),\n",
    "    (2, [\"A\", \"E\"]),\n",
    "    (3, [\"A\", \"B\", \"D\", \"E\", \"E\", \"D\"]),\n",
    "    (4, [\"E\", \"B\"]),\n",
    "    (5, [\"B\", \"C\", \"D\", \"D\", \"E\", \"E\", \"E\"]),\n",
    "    (6, [\"C\", \"E\", \"A\", \"B\"]),\n",
    "    (7, [\"A\", \"C\", \"E\", \"D\"]),\n",
    "    (8, [\"E\", \"D\", \"E\", \"A\", \"B\"]),\n",
    "    (9, [\"A\", \"B\", \"E\", \"A\", \"A\", \"C\"]),\n",
    "]\n",
    "\n",
    "\"\"\"\n",
    "def pregunta_07():\n",
    "\n",
    "    columnas = [x[:2] for x in datos]\n",
    "    new_group = []\n",
    "\n",
    "    for i, j in itertools.groupby(sorted(columnas, key = lambda x : x[1]), lambda x : x[1]):\n",
    "        new_group.append((int(i), [x[0] for x in j]))\n",
    "\n",
    "    return new_group"
   ]
  },
  {
   "cell_type": "code",
   "execution_count": null,
   "metadata": {
    "id": "3NkxYfz_lJFO",
    "outputId": "24146c00-dee0-4a65-e472-9fdeef0feb38"
   },
   "outputs": [
    {
     "data": {
      "text/plain": [
       "[(0, ['C']),\n",
       " (1, ['B', 'E']),\n",
       " (2, ['A', 'E']),\n",
       " (3, ['A', 'B', 'D', 'E']),\n",
       " (4, ['B', 'E']),\n",
       " (5, ['B', 'C', 'D', 'E']),\n",
       " (6, ['A', 'B', 'C', 'E']),\n",
       " (7, ['A', 'C', 'D', 'E']),\n",
       " (8, ['A', 'B', 'D', 'E']),\n",
       " (9, ['A', 'B', 'C', 'E'])]"
      ]
     },
     "execution_count": 38,
     "metadata": {},
     "output_type": "execute_result"
    }
   ],
   "source": [
    "# Pregunta 08\n",
    "\n",
    "\"\"\"\n",
    "Genere una lista de tuplas, donde el primer elemento de cada tupla contiene  el valor\n",
    "de la segunda columna; la segunda parte de la tupla es una lista con las letras\n",
    "(ordenadas y sin repetir letra) de la primera  columna que aparecen asociadas a dicho\n",
    "valor de la segunda columna.\n",
    "\n",
    "Rta/\n",
    "[\n",
    "    (0, [\"C\"]),\n",
    "    (1, [\"B\", \"E\"]),\n",
    "    (2, [\"A\", \"E\"]),\n",
    "    (3, [\"A\", \"B\", \"D\", \"E\"]),\n",
    "    (4, [\"B\", \"E\"]),\n",
    "    (5, [\"B\", \"C\", \"D\", \"E\"]),\n",
    "    (6, [\"A\", \"B\", \"C\", \"E\"]),\n",
    "    (7, [\"A\", \"C\", \"D\", \"E\"]),\n",
    "    (8, [\"A\", \"B\", \"D\", \"E\"]),\n",
    "    (9, [\"A\", \"B\", \"C\", \"E\"]),\n",
    "]\n",
    "\n",
    "\"\"\"\n",
    "def pregunta_08():\n",
    "\n",
    "    columnas = [x[:2] for x in datos]\n",
    "    new_group = []\n",
    "\n",
    "    for i, j in itertools.groupby(sorted(columnas, key = lambda x : x[1]), lambda x : x[1]):\n",
    "        new_group.append((int(i), sorted(list(set([x[0] for x in j])))))\n",
    "\n",
    "    return new_group"
   ]
  },
  {
   "cell_type": "code",
   "execution_count": null,
   "metadata": {
    "id": "M3_Z1z2jlJFP",
    "outputId": "cad48b48-36be-453a-b925-2cb0f4f0cd03"
   },
   "outputs": [
    {
     "data": {
      "text/plain": [
       "{'aaa': 13,\n",
       " 'bbb': 16,\n",
       " 'ccc': 23,\n",
       " 'ddd': 23,\n",
       " 'eee': 15,\n",
       " 'fff': 20,\n",
       " 'ggg': 13,\n",
       " 'hhh': 16,\n",
       " 'iii': 18,\n",
       " 'jjj': 18}"
      ]
     },
     "execution_count": 42,
     "metadata": {},
     "output_type": "execute_result"
    }
   ],
   "source": [
    "# Pregunta 09:\n",
    "\n",
    "\"\"\"\n",
    "Retorne un diccionario que contenga la cantidad de registros en que aparece cada\n",
    "clave de la columna 5.\n",
    "\n",
    "Rta/\n",
    "{\n",
    "    \"aaa\": 13,\n",
    "    \"bbb\": 16,\n",
    "    \"ccc\": 23,\n",
    "    \"ddd\": 23,\n",
    "    \"eee\": 15,\n",
    "    \"fff\": 20,\n",
    "    \"ggg\": 13,\n",
    "    \"hhh\": 16,\n",
    "    \"iii\": 18,\n",
    "    \"jjj\": 18,\n",
    "}\n",
    "\n",
    "\"\"\"\n",
    "def pregunta_09():\n",
    "\n",
    "    nueva_lista_valores = []\n",
    "    valores = [x[4] for x in datos]\n",
    "    lista_valores = [x.split(\",\") for x in valores]\n",
    "    contador = Counter()\n",
    "\n",
    "\n",
    "    for x in lista_valores:\n",
    "        for y in x:\n",
    "            nueva_lista_valores.append(y.split(\":\"))\n",
    "\n",
    "\n",
    "    for dicc in nueva_lista_valores:\n",
    "        contador[dicc[0]] += 1\n",
    "\n",
    "    return dict(sorted(contador.items()))\n",
    "\n"
   ]
  },
  {
   "cell_type": "code",
   "execution_count": null,
   "metadata": {
    "id": "W3mVoE7zlJFQ",
    "outputId": "5c91ff05-6134-43b7-e7f4-dc389fedaf8d"
   },
   "outputs": [
    {
     "data": {
      "text/plain": [
       "[('E', 3, 5),\n",
       " ('A', 3, 4),\n",
       " ('B', 4, 4),\n",
       " ('A', 2, 4),\n",
       " ('C', 4, 4),\n",
       " ('A', 2, 5),\n",
       " ('A', 3, 6),\n",
       " ('B', 2, 3),\n",
       " ('E', 4, 6),\n",
       " ('B', 4, 6),\n",
       " ('C', 4, 5),\n",
       " ('C', 4, 3),\n",
       " ('D', 4, 5),\n",
       " ('E', 2, 3),\n",
       " ('B', 2, 5),\n",
       " ('D', 2, 4),\n",
       " ('E', 3, 6),\n",
       " ('D', 2, 3),\n",
       " ('E', 4, 3),\n",
       " ('E', 2, 3),\n",
       " ('E', 2, 3),\n",
       " ('E', 3, 3),\n",
       " ('D', 3, 3),\n",
       " ('A', 3, 5),\n",
       " ('E', 2, 6),\n",
       " ('E', 3, 6),\n",
       " ('A', 3, 3),\n",
       " ('E', 3, 5),\n",
       " ('A', 2, 5),\n",
       " ('C', 4, 6),\n",
       " ('A', 2, 5),\n",
       " ('D', 2, 6),\n",
       " ('E', 2, 4),\n",
       " ('B', 3, 6),\n",
       " ('B', 3, 5),\n",
       " ('D', 2, 3),\n",
       " ('B', 2, 5),\n",
       " ('C', 4, 3),\n",
       " ('E', 2, 3),\n",
       " ('E', 3, 3)]"
      ]
     },
     "execution_count": 49,
     "metadata": {},
     "output_type": "execute_result"
    }
   ],
   "source": [
    "# Pregunta 10\n",
    "\n",
    "\"\"\"\n",
    "Retorne una lista de tuplas contengan por cada tupla, la letra de la columna 1 y la\n",
    "cantidad de elementos de las columnas 4 y 5.\n",
    "\n",
    "Rta/\n",
    "[\n",
    "    (\"E\", 3, 5),\n",
    "    (\"A\", 3, 4),\n",
    "    (\"B\", 4, 4),\n",
    "    ...\n",
    "    (\"C\", 4, 3),\n",
    "    (\"E\", 2, 3),\n",
    "    (\"E\", 3, 3),\n",
    "]\n",
    "\n",
    "\n",
    "\"\"\"\n",
    "def pregunta_10():\n",
    "\n",
    "    from operator import itemgetter\n",
    "\n",
    "    columnas = [itemgetter(0,3,4)(i) for i in datos]\n",
    "    conteo = []\n",
    "\n",
    "    for x in columnas:\n",
    "\n",
    "        col4 = len(x[1].split(\",\"))\n",
    "        col5 = len(x[2].split(\",\"))\n",
    "        conteo.append((x[0], col4, col5))\n",
    "    return conteo"
   ]
  },
  {
   "cell_type": "code",
   "execution_count": null,
   "metadata": {
    "id": "d_GdSScglJFR",
    "outputId": "13dcd9b5-fbb7-426d-969a-d9edc27cf94f"
   },
   "outputs": [
    {
     "data": {
      "text/plain": [
       "{'a': 122, 'b': 49, 'c': 91, 'd': 73, 'e': 86, 'f': 134, 'g': 35}"
      ]
     },
     "execution_count": 60,
     "metadata": {},
     "output_type": "execute_result"
    }
   ],
   "source": [
    "# Pregunta 11\n",
    "\n",
    "\"\"\"\n",
    "Retorne un diccionario que contengan la suma de la columna 2 para cada letra de la\n",
    "columna 4, ordenadas alfabeticamente.\n",
    "\n",
    "Rta/\n",
    "{\n",
    "    \"a\": 122,\n",
    "    \"b\": 49,\n",
    "    \"c\": 91,\n",
    "    \"d\": 73,\n",
    "    \"e\": 86,\n",
    "    \"f\": 134,\n",
    "    \"g\": 35,\n",
    "}\n",
    "\n",
    "\n",
    "\"\"\"\n",
    "def pregunta_11():\n",
    "\n",
    "    from operator import itemgetter\n",
    "    col1 = [itemgetter(1)(i) for i in datos]\n",
    "    col3 = [i[3].split(\",\") for i in datos]\n",
    "    new_ = zip(col1,col3)\n",
    "\n",
    "    new_1 = []\n",
    "    new_group = []\n",
    "\n",
    "    for x in list(new_):\n",
    "        for y in x[1]:\n",
    "            new_1.append((x[0],y))\n",
    "\n",
    "\n",
    "    for i, j in itertools.groupby(sorted(new_1, key = lambda x : x[1]), lambda x : x[1]):\n",
    "        new_group.append((i, sum([int(y[0]) for y in j])))\n",
    "\n",
    "    return dict(new_group)"
   ]
  },
  {
   "cell_type": "code",
   "execution_count": null,
   "metadata": {
    "id": "-GJEN-fHlJFS",
    "outputId": "44e43e6e-f992-48bb-db75-3b92566b2c68"
   },
   "outputs": [
    {
     "data": {
      "text/plain": [
       "{'A': 177, 'B': 187, 'C': 114, 'D': 136, 'E': 324}"
      ]
     },
     "execution_count": 69,
     "metadata": {},
     "output_type": "execute_result"
    }
   ],
   "source": [
    "# Pregunta 12\n",
    "\n",
    "\"\"\"\n",
    "Genere un diccionario que contengan como clave la columna 1 y como valor la suma de\n",
    "los valores de la columna 5 sobre todo el archivo.\n",
    "\n",
    "Rta/\n",
    "{\n",
    "    'A': 177,\n",
    "    'B': 187,\n",
    "    'C': 114,\n",
    "    'D': 136,\n",
    "    'E': 324\n",
    "}\n",
    "\n",
    "\"\"\"\n",
    "def pregunta_12():\n",
    "\n",
    "    from operator import itemgetter\n",
    "    col0 = [itemgetter(0)(i) for i in datos]\n",
    "    col4 = [i[4].split(\",\") for i in datos]\n",
    "\n",
    "\n",
    "    valores = []\n",
    "    a = 0\n",
    "\n",
    "    for x in col4:\n",
    "        for y in x:\n",
    "            a += int(y[y.index(\":\")+1:])\n",
    "\n",
    "\n",
    "        valores.append(a)\n",
    "        a = 0\n",
    "\n",
    "\n",
    "    new_ = list(zip(col0, valores))\n",
    "    new_group = []\n",
    "\n",
    "    for i, j in itertools.groupby(sorted(new_, key = lambda x : x[0]), lambda x : x[0]):\n",
    "        new_group.append((i, sum(y[1] for y in j)))\n",
    "\n",
    "    return dict(new_group)\n",
    "\n"
   ]
  },
  {
   "cell_type": "code",
   "execution_count": null,
   "metadata": {
    "id": "hl7TyWRrlJFT"
   },
   "outputs": [],
   "source": []
  }
 ],
 "metadata": {
  "colab": {
   "provenance": []
  },
  "kernelspec": {
   "display_name": ".venv",
   "language": "python",
   "name": "python3"
  },
  "language_info": {
   "codemirror_mode": {
    "name": "ipython",
    "version": 3
   },
   "file_extension": ".py",
   "mimetype": "text/x-python",
   "name": "python",
   "nbconvert_exporter": "python",
   "pygments_lexer": "ipython3",
   "version": "3.12.3"
  }
 },
 "nbformat": 4,
 "nbformat_minor": 0
}
